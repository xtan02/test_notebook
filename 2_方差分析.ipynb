{
 "cells": [
  {
   "cell_type": "markdown",
   "metadata": {},
   "source": [
    "# <center>***基于Pingouin的方差分析***</center>\n",
    "<br><br><br>"
   ]
  },
  {
   "cell_type": "code",
   "execution_count": 27,
   "metadata": {},
   "outputs": [],
   "source": [
    "import pingouin as pg\n",
    "from pingouin import read_dataset"
   ]
  },
  {
   "cell_type": "markdown",
   "metadata": {},
   "source": [
    "## 单因素方差分析（One-Way ANOVA）：\n",
    "\n",
    "用于比较一个自变量（因素）在不同组之间是否导致因变量的显著差异。这是最常见的方差分析类型，适用于一个因素有多个水平（组）的情况。\n"
   ]
  },
  {
   "cell_type": "code",
   "execution_count": 28,
   "metadata": {},
   "outputs": [
    {
     "name": "stdout",
     "output_type": "stream",
     "text": [
      "       Source           SS  DF          MS         F     p-unc       np2\n",
      "0  Hair color  1360.726316   3  453.575439  6.791407  0.004114  0.575962\n",
      "1      Within  1001.800000  15   66.786667       NaN       NaN       NaN\n"
     ]
    }
   ],
   "source": [
    "df1 = read_dataset('anova.csv')  # 从CSV文件读取数据，替换为你的数据源\n",
    "anova_result1 = pg.anova(data=df1, dv='Pain threshold', between='Hair color', detailed=True)\n",
    "print(anova_result1)"
   ]
  },
  {
   "cell_type": "markdown",
   "metadata": {},
   "source": [
    "\n",
    "## 双因素方差分析（Two-Way ANOVA）：\n",
    "\n",
    "用于同时考察两个自变量对因变量的影响，这两个自变量可以是独立的，也可以是交互作用的。双因素方差分析可以分为无交互作用和有交互作用两种情况。\n"
   ]
  },
  {
   "cell_type": "code",
   "execution_count": 29,
   "metadata": {},
   "outputs": [
    {
     "name": "stdout",
     "output_type": "stream",
     "text": [
      "         Source           SS  DF           MS         F     p-unc       np2\n",
      "0         Blend     2.041667   1     2.041667  0.003768  0.951730  0.000209\n",
      "1          Crop  2736.583333   2  1368.291667  2.525235  0.107978  0.219105\n",
      "2  Blend * Crop  2360.083333   2  1180.041667  2.177813  0.142223  0.194834\n",
      "3      Residual  9753.250000  18   541.847222       NaN       NaN       NaN\n"
     ]
    }
   ],
   "source": [
    "df2 = read_dataset('anova2.csv')  # 从CSV文件读取数据，替换为你的数据源\n",
    "anova_result2 = pg.anova(data=df2, dv='Yield', between=['Blend', 'Crop'], detailed=True)\n",
    "print(anova_result2)"
   ]
  },
  {
   "cell_type": "markdown",
   "metadata": {},
   "source": [
    "\n",
    "## 多因素方差分析（Multifactor ANOVA）：\n",
    "\n",
    "这种类型适用于有多个自变量（因素）的情况，可以同时考察多个因素对因变量的影响。它可以是两因素以上的组合，有时也称为多元方差分析。\n"
   ]
  },
  {
   "cell_type": "code",
   "execution_count": 30,
   "metadata": {},
   "outputs": [
    {
     "name": "stdout",
     "output_type": "stream",
     "text": [
      "              Source         SS    DF         MS          F     p-unc  \\\n",
      "0                Sex   2.074568   1.0   2.074568   2.462115  0.123191   \n",
      "1               Risk  11.332130   1.0  11.332130  13.449071  0.000613   \n",
      "2               Drug   0.815743   2.0   0.407872   0.484066  0.619249   \n",
      "3         Sex * Risk   0.117441   1.0   0.117441   0.139381  0.710541   \n",
      "4         Sex * Drug   2.564162   2.0   1.282081   1.521585  0.228711   \n",
      "5        Risk * Drug   2.437511   2.0   1.218755   1.446430  0.245485   \n",
      "6  Sex * Risk * Drug   1.843788   2.0   0.921894   1.094112  0.343041   \n",
      "7           Residual  40.444597  48.0   0.842596        NaN       NaN   \n",
      "\n",
      "        np2  \n",
      "0  0.048791  \n",
      "1  0.218865  \n",
      "2  0.019771  \n",
      "3  0.002895  \n",
      "4  0.059620  \n",
      "5  0.056842  \n",
      "6  0.043600  \n",
      "7       NaN  \n"
     ]
    }
   ],
   "source": [
    "df3 = read_dataset('anova3.csv')  # 从CSV文件读取数据，替换为你的数据源\n",
    "anova_result3 = pg.anova(data=df3, dv='Cholesterol', between=[\"Sex\", \"Risk\", \"Drug\"], detailed=True)\n",
    "print(anova_result3)"
   ]
  },
  {
   "cell_type": "markdown",
   "metadata": {},
   "source": [
    "\n",
    "## 混合设计方差分析（Mixed Design ANOVA）：\n",
    "\n",
    "这种方法结合了重复测量设计和因素设计，适用于同时考察因素效应和重复测量效应的情况。"
   ]
  },
  {
   "cell_type": "code",
   "execution_count": 31,
   "metadata": {},
   "outputs": [
    {
     "name": "stdout",
     "output_type": "stream",
     "text": [
      "  Source          SS   DF        MS         F     p-unc       ng2       eps\n",
      "0   Time    7.628428    2  3.814214  3.912796  0.022629  0.039981  0.998751\n",
      "1  Error  115.027023  118  0.974805       NaN       NaN       NaN       NaN\n"
     ]
    }
   ],
   "source": [
    "df5 = pg.read_dataset('mixed_anova')\n",
    "anova_result5 = pg.rm_anova(data=df5, dv='Scores', within='Time', subject='Subject', detailed=True)\n",
    "print(anova_result5)"
   ]
  }
 ],
 "metadata": {
  "kernelspec": {
   "display_name": "ml",
   "language": "python",
   "name": "python3"
  },
  "language_info": {
   "codemirror_mode": {
    "name": "ipython",
    "version": 3
   },
   "file_extension": ".py",
   "mimetype": "text/x-python",
   "name": "python",
   "nbconvert_exporter": "python",
   "pygments_lexer": "ipython3",
   "version": "3.11.0"
  },
  "orig_nbformat": 4
 },
 "nbformat": 4,
 "nbformat_minor": 2
}
