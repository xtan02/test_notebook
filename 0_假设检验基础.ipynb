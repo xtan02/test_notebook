{
 "cells": [
  {
   "cell_type": "markdown",
   "metadata": {},
   "source": [
    "# <center>***使用Pingouin进行假设检验***</center>\n",
    "<br><br><br>"
   ]
  },
  {
   "cell_type": "markdown",
   "metadata": {},
   "source": [
    "Pinouin是一个用 Python 3 编写的开源统计包，主要基于 Pandas 和 NumPy。下面列出了它的一些主要功能。\n",
    "\n",
    "有关可用函数的完整列表，请参阅API 文档。\n",
    "\n",
    "- 方差分析：N 路、重复测量、混合、方差分析\n",
    "- 成对事后检验（参数和非参数）和成对相关性\n",
    "- 稳健、部分、距离和重复测量相关性\n",
    "- 线性/逻辑回归和中介分析\n",
    "- 贝叶斯因素\n",
    "- 多变量测试\n",
    "- 可靠性和一致性\n",
    "- 效应大小和功效分析\n",
    "- 围绕效应大小或相关系数的参数/自举置信区间\n",
    "- 循环统计\n",
    "- 卡方检验\n",
    "- 绘图：Bland-Altman 图、QQ 图、配对图、鲁棒相关性……"
   ]
  },
  {
   "cell_type": "markdown",
   "metadata": {},
   "source": [
    "## **下载相关的Python库**"
   ]
  },
  {
   "cell_type": "code",
   "execution_count": 6,
   "metadata": {},
   "outputs": [
    {
     "name": "stdout",
     "output_type": "stream",
     "text": [
      "Looking in indexes: https://pypi.tuna.tsinghua.edu.cn/simple\n",
      "Requirement already satisfied: pingouin in c:\\users\\jack\\.conda\\envs\\ml\\lib\\site-packages (0.5.3)\n",
      "Requirement already satisfied: numpy>=1.19 in c:\\users\\jack\\.conda\\envs\\ml\\lib\\site-packages (from pingouin) (1.24.3)\n",
      "Requirement already satisfied: scipy>=1.7 in c:\\users\\jack\\.conda\\envs\\ml\\lib\\site-packages (from pingouin) (1.10.1)\n",
      "Requirement already satisfied: pandas>=1.0 in c:\\users\\jack\\.conda\\envs\\ml\\lib\\site-packages (from pingouin) (1.5.3)\n",
      "Requirement already satisfied: matplotlib>=3.0.2 in c:\\users\\jack\\.conda\\envs\\ml\\lib\\site-packages (from pingouin) (3.7.2)\n",
      "Requirement already satisfied: seaborn>=0.11 in c:\\users\\jack\\.conda\\envs\\ml\\lib\\site-packages (from pingouin) (0.12.2)\n",
      "Requirement already satisfied: statsmodels>=0.13 in c:\\users\\jack\\.conda\\envs\\ml\\lib\\site-packages (from pingouin) (0.14.0)\n",
      "Requirement already satisfied: scikit-learn in c:\\users\\jack\\.conda\\envs\\ml\\lib\\site-packages (from pingouin) (1.3.0)\n",
      "Requirement already satisfied: pandas-flavor>=0.2.0 in c:\\users\\jack\\.conda\\envs\\ml\\lib\\site-packages (from pingouin) (0.6.0)\n",
      "Requirement already satisfied: outdated in c:\\users\\jack\\.conda\\envs\\ml\\lib\\site-packages (from pingouin) (0.2.2)\n",
      "Requirement already satisfied: tabulate in c:\\users\\jack\\.conda\\envs\\ml\\lib\\site-packages (from pingouin) (0.9.0)\n",
      "Requirement already satisfied: contourpy>=1.0.1 in c:\\users\\jack\\.conda\\envs\\ml\\lib\\site-packages (from matplotlib>=3.0.2->pingouin) (1.1.0)\n",
      "Requirement already satisfied: cycler>=0.10 in c:\\users\\jack\\.conda\\envs\\ml\\lib\\site-packages (from matplotlib>=3.0.2->pingouin) (0.11.0)\n",
      "Requirement already satisfied: fonttools>=4.22.0 in c:\\users\\jack\\.conda\\envs\\ml\\lib\\site-packages (from matplotlib>=3.0.2->pingouin) (4.42.0)\n",
      "Requirement already satisfied: kiwisolver>=1.0.1 in c:\\users\\jack\\.conda\\envs\\ml\\lib\\site-packages (from matplotlib>=3.0.2->pingouin) (1.4.4)\n",
      "Requirement already satisfied: packaging>=20.0 in c:\\users\\jack\\.conda\\envs\\ml\\lib\\site-packages (from matplotlib>=3.0.2->pingouin) (23.0)\n",
      "Requirement already satisfied: pillow>=6.2.0 in c:\\users\\jack\\.conda\\envs\\ml\\lib\\site-packages (from matplotlib>=3.0.2->pingouin) (10.0.0)\n",
      "Requirement already satisfied: pyparsing<3.1,>=2.3.1 in c:\\users\\jack\\.conda\\envs\\ml\\lib\\site-packages (from matplotlib>=3.0.2->pingouin) (3.0.9)\n",
      "Requirement already satisfied: python-dateutil>=2.7 in c:\\users\\jack\\.conda\\envs\\ml\\lib\\site-packages (from matplotlib>=3.0.2->pingouin) (2.8.2)\n",
      "Requirement already satisfied: pytz>=2020.1 in c:\\users\\jack\\.conda\\envs\\ml\\lib\\site-packages (from pandas>=1.0->pingouin) (2022.7)\n",
      "Requirement already satisfied: xarray in c:\\users\\jack\\.conda\\envs\\ml\\lib\\site-packages (from pandas-flavor>=0.2.0->pingouin) (2023.7.0)\n",
      "Requirement already satisfied: patsy>=0.5.2 in c:\\users\\jack\\.conda\\envs\\ml\\lib\\site-packages (from statsmodels>=0.13->pingouin) (0.5.3)\n",
      "Requirement already satisfied: setuptools>=44 in c:\\users\\jack\\.conda\\envs\\ml\\lib\\site-packages (from outdated->pingouin) (68.0.0)\n",
      "Requirement already satisfied: littleutils in c:\\users\\jack\\.conda\\envs\\ml\\lib\\site-packages (from outdated->pingouin) (0.2.2)\n",
      "Requirement already satisfied: requests in c:\\users\\jack\\.conda\\envs\\ml\\lib\\site-packages (from outdated->pingouin) (2.31.0)\n",
      "Requirement already satisfied: joblib>=1.1.1 in c:\\users\\jack\\.conda\\envs\\ml\\lib\\site-packages (from scikit-learn->pingouin) (1.2.0)\n",
      "Requirement already satisfied: threadpoolctl>=2.0.0 in c:\\users\\jack\\.conda\\envs\\ml\\lib\\site-packages (from scikit-learn->pingouin) (2.2.0)\n",
      "Requirement already satisfied: six in c:\\users\\jack\\.conda\\envs\\ml\\lib\\site-packages (from patsy>=0.5.2->statsmodels>=0.13->pingouin) (1.16.0)\n",
      "Requirement already satisfied: charset-normalizer<4,>=2 in c:\\users\\jack\\.conda\\envs\\ml\\lib\\site-packages (from requests->outdated->pingouin) (2.0.4)\n",
      "Requirement already satisfied: idna<4,>=2.5 in c:\\users\\jack\\.conda\\envs\\ml\\lib\\site-packages (from requests->outdated->pingouin) (3.4)\n",
      "Requirement already satisfied: urllib3<3,>=1.21.1 in c:\\users\\jack\\.conda\\envs\\ml\\lib\\site-packages (from requests->outdated->pingouin) (1.26.16)\n",
      "Requirement already satisfied: certifi>=2017.4.17 in c:\\users\\jack\\.conda\\envs\\ml\\lib\\site-packages (from requests->outdated->pingouin) (2023.7.22)\n",
      "Looking in indexes: https://pypi.tuna.tsinghua.edu.cn/simple\n",
      "Requirement already satisfied: scipy in c:\\users\\jack\\.conda\\envs\\ml\\lib\\site-packages (1.10.1)\n",
      "Requirement already satisfied: numpy<1.27.0,>=1.19.5 in c:\\users\\jack\\.conda\\envs\\ml\\lib\\site-packages (from scipy) (1.24.3)\n"
     ]
    }
   ],
   "source": [
    "# 下载相关开源库\n",
    "!pip install pingouin\n",
    "!pip install scipy"
   ]
  },
  {
   "cell_type": "markdown",
   "metadata": {},
   "source": [
    "## **正态性检验与方差齐性检验**"
   ]
  },
  {
   "cell_type": "code",
   "execution_count": 7,
   "metadata": {},
   "outputs": [
    {
     "name": "stdout",
     "output_type": "stream",
     "text": [
      "Shapiro-Wilk正态性检验：\n",
      "统计量: 0.9928501844406128\n",
      "p-value: 0.8788556456565857\n",
      "数据服从正态分布\n",
      "\n",
      "D'Agostino and Pearson正态性检验：\n",
      "统计量: 0.12130420038926697\n",
      "p-value: 0.9411506089405445\n",
      "数据服从正态分布\n"
     ]
    }
   ],
   "source": [
    "import numpy as np\n",
    "from scipy import stats\n",
    "\n",
    "# 生成示例数据\n",
    "data = np.random.normal(loc=0, scale=1, size=100)  # 正态分布数据\n",
    "\n",
    "# 正态性检验\n",
    "shapiro_stat, shapiro_p = stats.shapiro(data)\n",
    "dagostino_stat, dagostino_p = stats.normaltest(data)\n",
    "\n",
    "print(\"Shapiro-Wilk正态性检验：\")\n",
    "print(f\"统计量: {shapiro_stat}\")\n",
    "print(f\"p-value: {shapiro_p}\")\n",
    "if shapiro_p < 0.05:\n",
    "    print(\"数据不服从正态分布\")\n",
    "else:\n",
    "    print(\"数据服从正态分布\")\n",
    "\n",
    "print(\"\\nD'Agostino and Pearson正态性检验：\")\n",
    "print(f\"统计量: {dagostino_stat}\")\n",
    "print(f\"p-value: {dagostino_p}\")\n",
    "if dagostino_p < 0.05:\n",
    "    print(\"数据不服从正态分布\")\n",
    "else:\n",
    "    print(\"数据服从正态分布\")"
   ]
  },
  {
   "cell_type": "code",
   "execution_count": 8,
   "metadata": {},
   "outputs": [
    {
     "name": "stdout",
     "output_type": "stream",
     "text": [
      "\n",
      "Bartlett方差齐性检验：\n",
      "统计量: 8.842003314078982\n",
      "p-value: 0.0029437584277231888\n",
      "方差不齐性\n",
      "\n",
      "Levene方差齐性检验：\n",
      "统计量: 5.6654990884814636\n",
      "p-value: 0.01923650098210317\n",
      "方差不齐性\n"
     ]
    }
   ],
   "source": [
    "# 方差齐性检验\n",
    "group1 = np.random.normal(loc=0, scale=1, size=50)\n",
    "group2 = np.random.normal(loc=0, scale=1.5, size=50)  # 方差略大的数据\n",
    "\n",
    "bartlett_stat, bartlett_p = stats.bartlett(group1, group2)\n",
    "levene_stat, levene_p = stats.levene(group1, group2)\n",
    "\n",
    "print(\"\\nBartlett方差齐性检验：\")\n",
    "print(f\"统计量: {bartlett_stat}\")\n",
    "print(f\"p-value: {bartlett_p}\")\n",
    "if bartlett_p < 0.05:\n",
    "    print(\"方差不齐性\")\n",
    "else:\n",
    "    print(\"方差齐性\")\n",
    "\n",
    "print(\"\\nLevene方差齐性检验：\")\n",
    "print(f\"统计量: {levene_stat}\")\n",
    "print(f\"p-value: {levene_p}\")\n",
    "if levene_p < 0.05:\n",
    "    print(\"方差不齐性\")\n",
    "else:\n",
    "    print(\"方差齐性\")"
   ]
  }
 ],
 "metadata": {
  "kernelspec": {
   "display_name": "ml",
   "language": "python",
   "name": "python3"
  },
  "language_info": {
   "codemirror_mode": {
    "name": "ipython",
    "version": 3
   },
   "file_extension": ".py",
   "mimetype": "text/x-python",
   "name": "python",
   "nbconvert_exporter": "python",
   "pygments_lexer": "ipython3",
   "version": "3.11.0"
  },
  "orig_nbformat": 4
 },
 "nbformat": 4,
 "nbformat_minor": 2
}
