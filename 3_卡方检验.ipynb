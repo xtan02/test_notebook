{
 "cells": [
  {
   "cell_type": "code",
   "execution_count": null,
   "metadata": {},
   "outputs": [],
   "source": []
  },
  {
   "cell_type": "markdown",
   "metadata": {},
   "source": [
    "## 卡方独立性检验（Chi-Square Test for Independence）： \n",
    "用于分析两个分类变量之间是否存在关联性或独立性。它的目标是确定观察到的频数与期望的频数之间是否存在显著差异，从而判断两个变量是否相关。"
   ]
  },
  {
   "cell_type": "code",
   "execution_count": null,
   "metadata": {},
   "outputs": [],
   "source": []
  },
  {
   "cell_type": "markdown",
   "metadata": {},
   "source": [
    "## 卡方拟合度检验（Chi-Square Goodness-of-Fit Test）： \n",
    "用于比较观察到的频数与预期的频数之间的差异，以确定一个分类变量的分布是否与预期分布相符。通常用于检验观察数据是否符合特定的理论分布。"
   ]
  },
  {
   "cell_type": "code",
   "execution_count": null,
   "metadata": {},
   "outputs": [],
   "source": []
  },
  {
   "cell_type": "markdown",
   "metadata": {},
   "source": [
    "## 卡方对数比检验（Chi-Square Test of Log-Linear Association）： \n",
    "用于检验多个分类变量之间是否存在关联性，特别是在建立多变量联表时。它可以用于探究三个或更多分类变量之间的关系。"
   ]
  },
  {
   "cell_type": "code",
   "execution_count": null,
   "metadata": {},
   "outputs": [],
   "source": []
  },
  {
   "cell_type": "markdown",
   "metadata": {},
   "source": [
    "## 卡方趋势检验（Chi-Square Test for Trend）： \n",
    "用于检验在一个分类变量内部的两个有序组之间是否存在趋势。它通常应用于分析有序类别的数据，如评级或类别的顺序。"
   ]
  },
  {
   "cell_type": "code",
   "execution_count": null,
   "metadata": {},
   "outputs": [],
   "source": []
  }
 ],
 "metadata": {
  "language_info": {
   "name": "python"
  },
  "orig_nbformat": 4
 },
 "nbformat": 4,
 "nbformat_minor": 2
}
