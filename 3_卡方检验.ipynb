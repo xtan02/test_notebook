{
 "cells": [
  {
   "cell_type": "code",
   "execution_count": null,
   "metadata": {},
   "outputs": [],
   "source": []
  },
  {
   "cell_type": "markdown",
   "metadata": {},
   "source": [
    "1.卡方优度检验\n",
    "\n",
    "对一列数据进行统计检验，分析单个分类变量实际观测的比例与期望的比例是否一致。\n",
    "\n",
    "2.交叉表卡方\n",
    "\n",
    "研究两组分类变量的关系：如性别与看不看直播是否有关系。\n",
    "\n",
    "3.配对卡方\n",
    "\n",
    "研究实验过程中，用不同方法检测同一批人，看两个方法的效果是否有显著差异。"
   ]
  }
 ],
 "metadata": {
  "kernelspec": {
   "display_name": "ml",
   "language": "python",
   "name": "python3"
  },
  "language_info": {
   "codemirror_mode": {
    "name": "ipython",
    "version": 3
   },
   "file_extension": ".py",
   "mimetype": "text/x-python",
   "name": "python",
   "nbconvert_exporter": "python",
   "pygments_lexer": "ipython3",
   "version": "3.11.0"
  },
  "orig_nbformat": 4
 },
 "nbformat": 4,
 "nbformat_minor": 2
}
